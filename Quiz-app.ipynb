{
 "cells": [
  {
   "cell_type": "code",
   "execution_count": 1,
   "id": "b9456539-a794-4267-b492-8a1e81c0df6b",
   "metadata": {},
   "outputs": [
    {
     "name": "stdout",
     "output_type": "stream",
     "text": [
      "Question 1: What is the capital of France?\n"
     ]
    },
    {
     "name": "stdin",
     "output_type": "stream",
     "text": [
      "Your answer:  paris\n"
     ]
    },
    {
     "name": "stdout",
     "output_type": "stream",
     "text": [
      "Correct!\n",
      "Question 2: Who wrote 'To Kill a Mockingbird'?\n"
     ]
    },
    {
     "name": "stdin",
     "output_type": "stream",
     "text": [
      "Your answer:  Harper Lee.\n"
     ]
    },
    {
     "name": "stdout",
     "output_type": "stream",
     "text": [
      "Sorry, the correct answer is: Harper Lee\n",
      "Question 3: What is the chemical symbol for water?\n"
     ]
    },
    {
     "name": "stdin",
     "output_type": "stream",
     "text": [
      "Your answer:  h2o\n"
     ]
    },
    {
     "name": "stdout",
     "output_type": "stream",
     "text": [
      "Correct!\n",
      "Quiz completed! Your score: 2/3\n"
     ]
    }
   ],
   "source": [
    "class Quiz:\n",
    "    def __init__(self, questions, answers):\n",
    "        self.questions = questions\n",
    "        self.answers = answers\n",
    "        self.score = 0\n",
    "\n",
    "    def display_question(self, question_number):\n",
    "        print(f\"Question {question_number + 1}: {self.questions[question_number]}\")\n",
    "\n",
    "    def check_answer(self, question_number, user_answer):\n",
    "        correct_answer = self.answers[question_number]\n",
    "        if user_answer.lower() == correct_answer.lower():\n",
    "            print(\"Correct!\")\n",
    "            self.score += 1\n",
    "        else:\n",
    "            print(f\"Sorry, the correct answer is: {correct_answer}\")\n",
    "\n",
    "    def run_quiz(self):\n",
    "        for i in range(len(self.questions)):\n",
    "            self.display_question(i)\n",
    "            user_answer = input(\"Your answer: \")\n",
    "            self.check_answer(i, user_answer)\n",
    "        print(f\"Quiz completed! Your score: {self.score}/{len(self.questions)}\")\n",
    "\n",
    "def main():\n",
    "    questions = [\n",
    "        \"What is the capital of France?\",\n",
    "        \"Who wrote 'To Kill a Mockingbird'?\",\n",
    "        \"What is the chemical symbol for water?\"\n",
    "    ]\n",
    "\n",
    "    answers = [\n",
    "        \"Paris\",\n",
    "        \"Harper Lee\",\n",
    "        \"H2O\"\n",
    "    ]\n",
    "\n",
    "    quiz = Quiz(questions, answers)\n",
    "    quiz.run_quiz()\n",
    "\n",
    "if __name__ == \"__main__\":\n",
    "    main()\n"
   ]
  },
  {
   "cell_type": "code",
   "execution_count": null,
   "id": "44491582-fb39-480a-9464-385fe7e8b99e",
   "metadata": {},
   "outputs": [],
   "source": []
  }
 ],
 "metadata": {
  "kernelspec": {
   "display_name": "Python 3 (ipykernel)",
   "language": "python",
   "name": "python3"
  },
  "language_info": {
   "codemirror_mode": {
    "name": "ipython",
    "version": 3
   },
   "file_extension": ".py",
   "mimetype": "text/x-python",
   "name": "python",
   "nbconvert_exporter": "python",
   "pygments_lexer": "ipython3",
   "version": "3.12.3"
  }
 },
 "nbformat": 4,
 "nbformat_minor": 5
}
